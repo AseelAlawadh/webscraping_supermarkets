{
 "cells": [
  {
   "cell_type": "markdown",
   "metadata": {},
   "source": [
    "# Problem Statement"
   ]
  },
  {
   "cell_type": "markdown",
   "metadata": {},
   "source": [
    "## Which the best store to by an item from KSA 🇸🇦"
   ]
  },
  {
   "cell_type": "markdown",
   "metadata": {},
   "source": [
    "We will use this data to find the cheaper price for the most important products consumed by saudis in some soters to help them to save some money  💸"
   ]
  },
  {
   "cell_type": "markdown",
   "metadata": {},
   "source": [
    "### there is to way to get the data form website , \n",
    "- use API \n",
    "- use Webscraping way (if there's not API for the website), which we use it here"
   ]
  },
  {
   "cell_type": "code",
   "execution_count": 8,
   "metadata": {},
   "outputs": [],
   "source": [
    "# install python library for Persian language localization.\n",
    "# !pip install persian "
   ]
  },
  {
   "cell_type": "code",
   "execution_count": 9,
   "metadata": {},
   "outputs": [],
   "source": [
    "# imporitng all library we need it \n",
    "import re\n",
    "from scrapy.selector import Selector\n",
    "import requests\n",
    "import pandas as pd\n",
    "from bs4 import BeautifulSoup\n",
    "from time import sleep\n",
    "from selenium import webdriver\n",
    "# import persian\n",
    "import matplotlib.pyplot as plt\n",
    "import seaborn as sns\n",
    "from scipy.stats import norm"
   ]
  },
  {
   "cell_type": "markdown",
   "metadata": {},
   "source": [
    "# Danube Market"
   ]
  },
  {
   "cell_type": "code",
   "execution_count": null,
   "metadata": {},
   "outputs": [],
   "source": [
    "## Step 1 : Download Html page \n",
    "#open browser\n",
    "driver = webdriver.Chrome(executable_path='./chromedriver/chromedriver')\n",
    "\n",
    "#requesr url\n",
    "url = 'https://danube.sa/departments/grocery?hierarchicalMenu%5Btaxons_ar.lvl0%5D%5B0%5D=%D9%85%D9%86%20%D8%A7%D9%84%D8%A3%D9%82%D8%B3%D8%A7%D9%85&hierarchicalMenu%5Btaxons_ar.lvl0%5D%5B1%5D=%D8%A7%D9%84%D8%A7%D8%AD%D8%AA%D9%8A%D8%A7%D8%AC%D8%A7%D8%AA%20%D8%A7%D9%84%D9%8A%D9%88%D9%85%D9%8A%D8%A9'\n",
    "product_name_list = []\n",
    "price_lst = []\n",
    "converter_price = [x for x in range(0,10)]\n",
    "\n",
    "driver.get(url)\n",
    "\n",
    "for page in range(1,50):\n",
    "    driver.get(url+'&page={}'.format(page))\n",
    "    sleep_time = 4\n",
    "    sleep(2)\n",
    "    driver.execute_script('window.scrollTo(0, document.body.scrollHeight);')\n",
    "   \n",
    "    item_lst = None\n",
    "    while item_lst == None:\n",
    "        sleep(sleep_time)\n",
    "        HTML = driver.page_source\n",
    "        soup = BeautifulSoup(HTML,\"html.parser\")\n",
    "        HTML = soup.prettify(\"utf-8\")\n",
    "        item_lst = soup.findAll('div', attrs ={'class': 'product-box'})\n",
    "        for section in item_lst: \n",
    "            product_name_list.append(section.find('div', attrs={'class': 'product-box__name'}).text.strip()) \n",
    "            price = section.find('div', attrs={'class':'product-price__current-price'}).text  \n",
    "            # convert the price from arbics number to english numbers and to float\n",
    "            price_lst.append(float(re.search(r'[\\d\\.]+',price).group()))\n",
    "\n",
    "driver.close()"
   ]
  },
  {
   "cell_type": "code",
   "execution_count": null,
   "metadata": {},
   "outputs": [],
   "source": [
    "# section.find('div', attrs={'class':'product-price__current-price'}).text"
   ]
  },
  {
   "cell_type": "markdown",
   "metadata": {},
   "source": [
    "### Save the out put in Data frame"
   ]
  },
  {
   "cell_type": "code",
   "execution_count": null,
   "metadata": {},
   "outputs": [],
   "source": [
    "danubeـdf = pd.DataFrame({'product_name_list': product_name_list, 'price_lst': price_lst})"
   ]
  },
  {
   "cell_type": "markdown",
   "metadata": {},
   "source": [
    "### investigate data"
   ]
  },
  {
   "cell_type": "code",
   "execution_count": 5,
   "metadata": {},
   "outputs": [
    {
     "ename": "NameError",
     "evalue": "name 'danubeـdf' is not defined",
     "output_type": "error",
     "traceback": [
      "\u001b[0;31m---------------------------------------------------------------------------\u001b[0m",
      "\u001b[0;31mNameError\u001b[0m                                 Traceback (most recent call last)",
      "\u001b[0;32m<ipython-input-5-7e1c7b7c0317>\u001b[0m in \u001b[0;36m<module>\u001b[0;34m\u001b[0m\n\u001b[0;32m----> 1\u001b[0;31m \u001b[0mdanubeـdf\u001b[0m\u001b[0;34m.\u001b[0m\u001b[0mhead\u001b[0m\u001b[0;34m(\u001b[0m\u001b[0;34m)\u001b[0m\u001b[0;34m\u001b[0m\u001b[0;34m\u001b[0m\u001b[0m\n\u001b[0m",
      "\u001b[0;31mNameError\u001b[0m: name 'danubeـdf' is not defined"
     ]
    }
   ],
   "source": [
    "danubeـdf.head()"
   ]
  },
  {
   "cell_type": "code",
   "execution_count": 6,
   "metadata": {},
   "outputs": [
    {
     "ename": "NameError",
     "evalue": "name 'danubeـdf' is not defined",
     "output_type": "error",
     "traceback": [
      "\u001b[0;31m---------------------------------------------------------------------------\u001b[0m",
      "\u001b[0;31mNameError\u001b[0m                                 Traceback (most recent call last)",
      "\u001b[0;32m<ipython-input-6-e990deff434b>\u001b[0m in \u001b[0;36m<module>\u001b[0;34m\u001b[0m\n\u001b[0;32m----> 1\u001b[0;31m \u001b[0mdanubeـdf\u001b[0m\u001b[0;34m.\u001b[0m\u001b[0minfo\u001b[0m\u001b[0;34m(\u001b[0m\u001b[0;34m)\u001b[0m\u001b[0;34m\u001b[0m\u001b[0;34m\u001b[0m\u001b[0m\n\u001b[0m",
      "\u001b[0;31mNameError\u001b[0m: name 'danubeـdf' is not defined"
     ]
    }
   ],
   "source": [
    "danubeـdf.info()"
   ]
  },
  {
   "cell_type": "code",
   "execution_count": 7,
   "metadata": {},
   "outputs": [
    {
     "ename": "NameError",
     "evalue": "name 'danubeـdf' is not defined",
     "output_type": "error",
     "traceback": [
      "\u001b[0;31m---------------------------------------------------------------------------\u001b[0m",
      "\u001b[0;31mNameError\u001b[0m                                 Traceback (most recent call last)",
      "\u001b[0;32m<ipython-input-7-8d45bec94a54>\u001b[0m in \u001b[0;36m<module>\u001b[0;34m\u001b[0m\n\u001b[0;32m----> 1\u001b[0;31m \u001b[0mdanubeـdf\u001b[0m\u001b[0;34m.\u001b[0m\u001b[0mdescribe\u001b[0m\u001b[0;34m(\u001b[0m\u001b[0;34m)\u001b[0m\u001b[0;34m\u001b[0m\u001b[0;34m\u001b[0m\u001b[0m\n\u001b[0m",
      "\u001b[0;31mNameError\u001b[0m: name 'danubeـdf' is not defined"
     ]
    }
   ],
   "source": [
    "danubeـdf.describe()"
   ]
  },
  {
   "cell_type": "code",
   "execution_count": null,
   "metadata": {},
   "outputs": [
    {
     "data": {
      "image/png": "[encoded data removed]",
      "text/plain": [
       "<Figure size 432x288 with 1 Axes>"
      ]
     },
     "metadata": {
      "needs_background": "light"
     },
     "output_type": "display_data"
    }
   ],
   "source": [
    "sns.distplot(danubeـdf.price_lst, bins= 50, fit=norm);"
   ]
  },
  {
   "cell_type": "markdown",
   "metadata": {},
   "source": [
    "### Save data frame as a csv file"
   ]
  },
  {
   "cell_type": "code",
   "execution_count": null,
   "metadata": {},
   "outputs": [],
   "source": [
    "danubeـdf.to_csv('Danube.csv', encoding='utf-8-sig')"
   ]
  },
  {
   "cell_type": "markdown",
   "metadata": {},
   "source": [
    "# Carrefour Market "
   ]
  },
  {
   "cell_type": "code",
   "execution_count": null,
   "metadata": {},
   "outputs": [],
   "source": [
    "driver = webdriver.Chrome(executable_path='./chromedriver/chromedriver')\n",
    "# driver.implicitly_wait(30)\n",
    "# driver.maximize_window()\n",
    "\n",
    "#requesr url\n",
    "url ='https://www.carrefourksa.com/mafsau/ar/-/c/FKSA1000000'\n",
    "product_name_list_carrefour = []\n",
    "price_lst_carrefour = [] \n",
    "driver.get(url)\n",
    "\n",
    "for page in range(1,48):\n",
    "    driver.get(url+'?&qsort=relevance&pg={}'.format(page))\n",
    "    sleep_time = 4\n",
    "    sleep(2)\n",
    "    driver.execute_script('window.scrollTo(0, document.body.scrollHeight);')\n",
    "   \n",
    "    item_lst_carrefour = None\n",
    "    while item_lst_carrefour == None:\n",
    "        sleep(sleep_time)\n",
    "        HTML = driver.page_source\n",
    "        soup = BeautifulSoup(HTML,\"html.parser\")\n",
    "        HTML = soup.prettify(\"utf-8\")\n",
    "        item_lst_carrefour = soup.findAll('div', attrs ={'class': 'comp-productcard'})\n",
    "        for section in item_lst_carrefour: \n",
    "            product_name_list_carrefour.append(section.find('p', attrs={'class': 'comp-productcard__name'}).text.strip())\n",
    "#             price = section.find('p', attrs={'class':'comp-productcard__price'}).text  \n",
    "#             price_lst_carrefour.append(float(re.search(r'[\\d\\.]+',price).group()))\n",
    "            price_lst_carrefour.append(section.find('p', attrs={'class':'comp-productcard__price'}).text.strip())  \n",
    "#             try:\n",
    "#                 price_lst.append(section.select('*[@id=\"main\"]/div[2]/div[1]/div/div[2]/section/div[3]/div/div/div[1]/div/p[1]/del').text.strip())\n",
    "#             except:\n",
    "#                  price_lst.append(section.select('*[@id=\"main\"]/div[2]/div[1]/div/div[2]/section/div[4]/div/div/div[1]/div/p[1]/strong').txt.strip())   \n",
    "driver.close()"
   ]
  },
  {
   "cell_type": "code",
   "execution_count": null,
   "metadata": {},
   "outputs": [],
   "source": [
    "# section.select('//*[@id=\"main\"]/div[2]/div[1]/div/div[2]/section/div[3]/div/div/div[1]/div/p[1]/del')\n",
    "# section.select('//*[@id=\"main\"]/div[2]/div[1]/div/div[2]/section/div[3]/div/div/div[1]/div/p[1]/del').text.strip()"
   ]
  },
  {
   "cell_type": "markdown",
   "metadata": {},
   "source": [
    "### Save the out put in Data frame"
   ]
  },
  {
   "cell_type": "code",
   "execution_count": 1,
   "metadata": {},
   "outputs": [
    {
     "ename": "NameError",
     "evalue": "name 'pd' is not defined",
     "output_type": "error",
     "traceback": [
      "\u001b[0;31m---------------------------------------------------------------------------\u001b[0m",
      "\u001b[0;31mNameError\u001b[0m                                 Traceback (most recent call last)",
      "\u001b[0;32m<ipython-input-1-e3639ae1996a>\u001b[0m in \u001b[0;36m<module>\u001b[0;34m\u001b[0m\n\u001b[0;32m----> 1\u001b[0;31m \u001b[0mcarrefour_df\u001b[0m \u001b[0;34m=\u001b[0m \u001b[0mpd\u001b[0m\u001b[0;34m.\u001b[0m\u001b[0mDataFrame\u001b[0m\u001b[0;34m(\u001b[0m\u001b[0;34m{\u001b[0m\u001b[0;34m'product_name_list'\u001b[0m\u001b[0;34m:\u001b[0m \u001b[0mproduct_name_list_carrefour\u001b[0m\u001b[0;34m,\u001b[0m \u001b[0;34m'price_lst'\u001b[0m\u001b[0;34m:\u001b[0m \u001b[0mprice_lst_carrefour\u001b[0m\u001b[0;34m}\u001b[0m\u001b[0;34m)\u001b[0m\u001b[0;34m\u001b[0m\u001b[0;34m\u001b[0m\u001b[0m\n\u001b[0m",
      "\u001b[0;31mNameError\u001b[0m: name 'pd' is not defined"
     ]
    }
   ],
   "source": [
    "carrefour_df = pd.DataFrame({'product_name_list': product_name_list_carrefour, 'price_lst': price_lst_carrefour})"
   ]
  },
  {
   "cell_type": "markdown",
   "metadata": {},
   "source": [
    "### investigate data"
   ]
  },
  {
   "cell_type": "code",
   "execution_count": null,
   "metadata": {},
   "outputs": [],
   "source": [
    "carrefour_df.tail()"
   ]
  },
  {
   "cell_type": "code",
   "execution_count": null,
   "metadata": {},
   "outputs": [],
   "source": [
    "carrefour_df.info()"
   ]
  },
  {
   "cell_type": "code",
   "execution_count": null,
   "metadata": {},
   "outputs": [],
   "source": [
    "# to get just the actuall price and change the type to float \n",
    "carrefour_df['price_lst'] = carrefour_df.price_lst.apply(lambda x:re.findall(r'\\d+\\.\\d+', x)[1] if len(re.findall(r'\\d+\\.\\d+', x)) > 1 else re.findall(r'\\d+\\.\\d+', x)[0]).astype(float)"
   ]
  },
  {
   "cell_type": "code",
   "execution_count": null,
   "metadata": {},
   "outputs": [],
   "source": [
    "carrefour_df.head()"
   ]
  },
  {
   "cell_type": "code",
   "execution_count": null,
   "metadata": {},
   "outputs": [],
   "source": [
    "carrefour_df.info()"
   ]
  },
  {
   "cell_type": "code",
   "execution_count": null,
   "metadata": {},
   "outputs": [],
   "source": [
    "carrefour_df.describe()"
   ]
  },
  {
   "cell_type": "code",
   "execution_count": null,
   "metadata": {},
   "outputs": [],
   "source": [
    "sns.distplot(carrefour_df.price_lst, bins= 300, fit=norm);"
   ]
  },
  {
   "cell_type": "markdown",
   "metadata": {},
   "source": [
    "### Save data frame as a csv file"
   ]
  },
  {
   "cell_type": "code",
   "execution_count": null,
   "metadata": {},
   "outputs": [],
   "source": [
    "carrefour_df.to_csv('Carrefour.csv', encoding='utf-8-sig')"
   ]
  },
  {
   "cell_type": "code",
   "execution_count": null,
   "metadata": {},
   "outputs": [],
   "source": []
  }
 ],
 "metadata": {
  "kernelspec": {
   "display_name": "Python 3",
   "language": "python",
   "name": "python3"
  },
  "language_info": {
   "codemirror_mode": {
    "name": "ipython",
    "version": 3
   },
   "file_extension": ".py",
   "mimetype": "text/x-python",
   "name": "python",
   "nbconvert_exporter": "python",
   "pygments_lexer": "ipython3",
   "version": "3.6.8"
  }
 },
 "nbformat": 4,
 "nbformat_minor": 2
}
