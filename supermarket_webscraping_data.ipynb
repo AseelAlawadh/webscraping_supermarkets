{
 "cells": [
  {
   "cell_type": "markdown",
   "metadata": {},
   "source": [
    "# Problem Statement"
   ]
  },
  {
   "cell_type": "markdown",
   "metadata": {},
   "source": [
    "## Which the best store to by an item from KSA 🇸🇦"
   ]
  },
  {
   "cell_type": "markdown",
   "metadata": {},
   "source": [
    "We will use this data to find the cheaper price for the most important products consumed by saudis in some soters to help them to save some money  💸"
   ]
  },
  {
   "cell_type": "markdown",
   "metadata": {},
   "source": [
    "### there is to way to get the data form website , \n",
    "- use API \n",
    "- use Webscraping way (if there's not API for the website), which we use it here"
   ]
  },
  {
   "cell_type": "code",
   "execution_count": 1,
   "metadata": {},
   "outputs": [],
   "source": [
    "# install python library for Persian language localization.\n",
    "# !pip install persian "
   ]
  },
  {
   "cell_type": "code",
   "execution_count": 8,
   "metadata": {},
   "outputs": [],
   "source": [
    "# imporitng all library we need it \n",
    "import re\n",
    "from scrapy.selector import Selector\n",
    "import requests\n",
    "import pandas as pd\n",
    "from bs4 import BeautifulSoup\n",
    "from time import sleep\n",
    "from selenium import webdriver\n",
    "# import persian\n",
    "import matplotlib.pyplot as plt\n",
    "import seaborn as sns\n",
    "from scipy.stats import norm\n",
    "from urllib.request import (urlopen, urlparse, urlunparse, urlretrieve)\n",
    "\n",
    "# if you faced error in libraries, you may have to intsall BeautifulSoup4, re, lxml,selenium\n"
   ]
  },
  {
   "cell_type": "markdown",
   "metadata": {},
   "source": [
    "# Danube Market"
   ]
  },
  {
   "cell_type": "code",
   "execution_count": 5,
   "metadata": {},
   "outputs": [],
   "source": [
    "## Step 1 : Download Html page \n",
    "#open browser\n",
    "driver = webdriver.Chrome(executable_path='./chromedriver/chromedriver')\n",
    "\n",
    "#requesr url\n",
    "url = 'https://danube.sa/departments/grocery?hierarchicalMenu%5Btaxons_ar.lvl0%5D%5B0%5D=%D9%85%D9%86%20%D8%A7%D9%84%D8%A3%D9%82%D8%B3%D8%A7%D9%85&hierarchicalMenu%5Btaxons_ar.lvl0%5D%5B1%5D=%D8%A7%D9%84%D8%A7%D8%AD%D8%AA%D9%8A%D8%A7%D8%AC%D8%A7%D8%AA%20%D8%A7%D9%84%D9%8A%D9%88%D9%85%D9%8A%D8%A9'\n",
    "product_name_list = []\n",
    "price_lst = []\n",
    "converter_price = [x for x in range(0,10)]\n",
    "\n",
    "driver.get(url)\n",
    "\n",
    "for page in range(1,50):\n",
    "    driver.get(url+'&page={}'.format(page))\n",
    "    sleep_time = 4\n",
    "    sleep(2)\n",
    "    driver.execute_script('window.scrollTo(0, document.body.scrollHeight);')\n",
    "   \n",
    "    item_lst = None\n",
    "    while item_lst == None:\n",
    "        sleep(sleep_time)\n",
    "        HTML = driver.page_source\n",
    "        soup = BeautifulSoup(HTML,\"html.parser\")\n",
    "        HTML = soup.prettify(\"utf-8\")\n",
    "        item_lst = soup.findAll('div', attrs ={'class': 'product-box'})\n",
    "        for section in item_lst: \n",
    "            product_name_list.append(section.find('div', attrs={'class': 'product-box__name'}).text.strip()) \n",
    "            price = section.find('div', attrs={'class':'product-price__current-price'}).text  \n",
    "            # convert the price from arbics number to english numbers and to float\n",
    "            price_lst.append(float(re.search(r'[\\d\\.]+',price).group()))\n",
    "\n",
    "driver.close()"
   ]
  },
  {
   "cell_type": "code",
   "execution_count": 6,
   "metadata": {},
   "outputs": [],
   "source": [
    "# section.find('div', attrs={'class':'product-price__current-price'}).text"
   ]
  },
  {
   "cell_type": "markdown",
   "metadata": {},
   "source": [
    "### Save the out put in Data frame"
   ]
  },
  {
   "cell_type": "code",
   "execution_count": 7,
   "metadata": {},
   "outputs": [],
   "source": [
    "danubeـdf = pd.DataFrame({'product_name_list': product_name_list, 'price_lst': price_lst})"
   ]
  },
  {
   "cell_type": "markdown",
   "metadata": {},
   "source": [
    "### investigate data"
   ]
  },
  {
   "cell_type": "code",
   "execution_count": 8,
   "metadata": {},
   "outputs": [
    {
     "data": {
      "text/html": [
       "<div>\n",
       "<style scoped>\n",
       "    .dataframe tbody tr th:only-of-type {\n",
       "        vertical-align: middle;\n",
       "    }\n",
       "\n",
       "    .dataframe tbody tr th {\n",
       "        vertical-align: top;\n",
       "    }\n",
       "\n",
       "    .dataframe thead th {\n",
       "        text-align: right;\n",
       "    }\n",
       "</style>\n",
       "<table border=\"1\" class=\"dataframe\">\n",
       "  <thead>\n",
       "    <tr style=\"text-align: right;\">\n",
       "      <th></th>\n",
       "      <th>product_name_list</th>\n",
       "      <th>price_lst</th>\n",
       "    </tr>\n",
       "  </thead>\n",
       "  <tbody>\n",
       "    <tr>\n",
       "      <th>0</th>\n",
       "      <td>نوفا - مياه معبأة ٣٣٠ مل ٤٠ عبوة</td>\n",
       "      <td>18.0</td>\n",
       "    </tr>\n",
       "    <tr>\n",
       "      <th>1</th>\n",
       "      <td>شركة مطاحن الدقيق والمخابز الكويتية طحين فاخر ...</td>\n",
       "      <td>3.0</td>\n",
       "    </tr>\n",
       "    <tr>\n",
       "      <th>2</th>\n",
       "      <td>التنمية - صدور دجاج بدون عظم طازجة ٤٥٠ غرام</td>\n",
       "      <td>14.0</td>\n",
       "    </tr>\n",
       "    <tr>\n",
       "      <th>3</th>\n",
       "      <td>بيرين - مياة شرب ٤٠*٣٣٠ مل</td>\n",
       "      <td>18.0</td>\n",
       "    </tr>\n",
       "    <tr>\n",
       "      <th>4</th>\n",
       "      <td>اليوم - فيليه صدور الدجاج ١٠٠٠ غرام</td>\n",
       "      <td>39.0</td>\n",
       "    </tr>\n",
       "  </tbody>\n",
       "</table>\n",
       "</div>"
      ],
      "text/plain": [
       "                                   product_name_list  price_lst\n",
       "0                   نوفا - مياه معبأة ٣٣٠ مل ٤٠ عبوة       18.0\n",
       "1  شركة مطاحن الدقيق والمخابز الكويتية طحين فاخر ...        3.0\n",
       "2        التنمية - صدور دجاج بدون عظم طازجة ٤٥٠ غرام       14.0\n",
       "3                         بيرين - مياة شرب ٤٠*٣٣٠ مل       18.0\n",
       "4                اليوم - فيليه صدور الدجاج ١٠٠٠ غرام       39.0"
      ]
     },
     "execution_count": 8,
     "metadata": {},
     "output_type": "execute_result"
    }
   ],
   "source": [
    "danubeـdf.head()"
   ]
  },
  {
   "cell_type": "code",
   "execution_count": 9,
   "metadata": {},
   "outputs": [
    {
     "name": "stdout",
     "output_type": "stream",
     "text": [
      "<class 'pandas.core.frame.DataFrame'>\n",
      "RangeIndex: 980 entries, 0 to 979\n",
      "Data columns (total 2 columns):\n",
      "product_name_list    980 non-null object\n",
      "price_lst            980 non-null float64\n",
      "dtypes: float64(1), object(1)\n",
      "memory usage: 15.4+ KB\n"
     ]
    }
   ],
   "source": [
    "danubeـdf.info()"
   ]
  },
  {
   "cell_type": "code",
   "execution_count": 10,
   "metadata": {},
   "outputs": [
    {
     "data": {
      "text/html": [
       "<div>\n",
       "<style scoped>\n",
       "    .dataframe tbody tr th:only-of-type {\n",
       "        vertical-align: middle;\n",
       "    }\n",
       "\n",
       "    .dataframe tbody tr th {\n",
       "        vertical-align: top;\n",
       "    }\n",
       "\n",
       "    .dataframe thead th {\n",
       "        text-align: right;\n",
       "    }\n",
       "</style>\n",
       "<table border=\"1\" class=\"dataframe\">\n",
       "  <thead>\n",
       "    <tr style=\"text-align: right;\">\n",
       "      <th></th>\n",
       "      <th>price_lst</th>\n",
       "    </tr>\n",
       "  </thead>\n",
       "  <tbody>\n",
       "    <tr>\n",
       "      <th>count</th>\n",
       "      <td>980.000000</td>\n",
       "    </tr>\n",
       "    <tr>\n",
       "      <th>mean</th>\n",
       "      <td>12.468367</td>\n",
       "    </tr>\n",
       "    <tr>\n",
       "      <th>std</th>\n",
       "      <td>12.474121</td>\n",
       "    </tr>\n",
       "    <tr>\n",
       "      <th>min</th>\n",
       "      <td>0.000000</td>\n",
       "    </tr>\n",
       "    <tr>\n",
       "      <th>25%</th>\n",
       "      <td>4.000000</td>\n",
       "    </tr>\n",
       "    <tr>\n",
       "      <th>50%</th>\n",
       "      <td>9.000000</td>\n",
       "    </tr>\n",
       "    <tr>\n",
       "      <th>75%</th>\n",
       "      <td>16.000000</td>\n",
       "    </tr>\n",
       "    <tr>\n",
       "      <th>max</th>\n",
       "      <td>132.000000</td>\n",
       "    </tr>\n",
       "  </tbody>\n",
       "</table>\n",
       "</div>"
      ],
      "text/plain": [
       "        price_lst\n",
       "count  980.000000\n",
       "mean    12.468367\n",
       "std     12.474121\n",
       "min      0.000000\n",
       "25%      4.000000\n",
       "50%      9.000000\n",
       "75%     16.000000\n",
       "max    132.000000"
      ]
     },
     "execution_count": 10,
     "metadata": {},
     "output_type": "execute_result"
    }
   ],
   "source": [
    "danubeـdf.describe()"
   ]
  },
  {
   "cell_type": "code",
   "execution_count": 11,
   "metadata": {},
   "outputs": [
    {
     "data": {
      "image/png": "[encoded data removed]",
      "text/plain": [
       "<Figure size 432x288 with 1 Axes>"
      ]
     },
     "metadata": {
      "needs_background": "light"
     },
     "output_type": "display_data"
    }
   ],
   "source": [
    "sns.distplot(danubeـdf.price_lst, bins= 50, fit=norm);"
   ]
  },
  {
   "cell_type": "markdown",
   "metadata": {},
   "source": [
    "### Save data frame as a csv file"
   ]
  },
  {
   "cell_type": "code",
   "execution_count": 12,
   "metadata": {},
   "outputs": [],
   "source": [
    "danubeـdf.to_csv('Danube.csv', encoding='utf-8-sig')"
   ]
  },
  {
   "cell_type": "markdown",
   "metadata": {},
   "source": [
    "# Carrefour Market "
   ]
  },
  {
   "cell_type": "code",
   "execution_count": 13,
   "metadata": {},
   "outputs": [],
   "source": [
    "driver = webdriver.Chrome(executable_path='./chromedriver/chromedriver')\n",
    "# driver.implicitly_wait(30)\n",
    "# driver.maximize_window()\n",
    "\n",
    "#requesr url\n",
    "url ='https://www.carrefourksa.com/mafsau/ar/-/c/FKSA1000000'\n",
    "product_name_list_carrefour = []\n",
    "price_lst_carrefour = [] \n",
    "driver.get(url)\n",
    "\n",
    "for page in range(1,48):\n",
    "    driver.get(url+'?&qsort=relevance&pg={}'.format(page))\n",
    "    sleep_time = 4\n",
    "    sleep(2)\n",
    "    driver.execute_script('window.scrollTo(0, document.body.scrollHeight);')\n",
    "   \n",
    "    item_lst_carrefour = None\n",
    "    while item_lst_carrefour == None:\n",
    "        sleep(sleep_time)\n",
    "        HTML = driver.page_source\n",
    "        soup = BeautifulSoup(HTML,\"html.parser\")\n",
    "        HTML = soup.prettify(\"utf-8\")\n",
    "        item_lst_carrefour = soup.findAll('div', attrs ={'class': 'comp-productcard'})\n",
    "        for section in item_lst_carrefour: \n",
    "            product_name_list_carrefour.append(section.find('p', attrs={'class': 'comp-productcard__name'}).text.strip())\n",
    "#             price = section.find('p', attrs={'class':'comp-productcard__price'}).text  \n",
    "#             price_lst_carrefour.append(float(re.search(r'[\\d\\.]+',price).group()))\n",
    "            price_lst_carrefour.append(section.find('p', attrs={'class':'comp-productcard__price'}).text.strip())  \n",
    "#             try:\n",
    "#                 price_lst.append(section.select('*[@id=\"main\"]/div[2]/div[1]/div/div[2]/section/div[3]/div/div/div[1]/div/p[1]/del').text.strip())\n",
    "#             except:\n",
    "#                  price_lst.append(section.select('*[@id=\"main\"]/div[2]/div[1]/div/div[2]/section/div[4]/div/div/div[1]/div/p[1]/strong').txt.strip())   \n",
    "driver.close()"
   ]
  },
  {
   "cell_type": "code",
   "execution_count": 14,
   "metadata": {},
   "outputs": [],
   "source": [
    "# section.select('//*[@id=\"main\"]/div[2]/div[1]/div/div[2]/section/div[3]/div/div/div[1]/div/p[1]/del')\n",
    "# section.select('//*[@id=\"main\"]/div[2]/div[1]/div/div[2]/section/div[3]/div/div/div[1]/div/p[1]/del').text.strip()"
   ]
  },
  {
   "cell_type": "markdown",
   "metadata": {},
   "source": [
    "### Save the out put in Data frame"
   ]
  },
  {
   "cell_type": "code",
   "execution_count": 25,
   "metadata": {},
   "outputs": [],
   "source": [
    "carrefour_df = pd.DataFrame({'product_name_list': product_name_list_carrefour, 'price_lst': price_lst_carrefour})"
   ]
  },
  {
   "cell_type": "markdown",
   "metadata": {},
   "source": [
    "### investigate data"
   ]
  },
  {
   "cell_type": "code",
   "execution_count": 26,
   "metadata": {},
   "outputs": [
    {
     "data": {
      "text/html": [
       "<div>\n",
       "<style scoped>\n",
       "    .dataframe tbody tr th:only-of-type {\n",
       "        vertical-align: middle;\n",
       "    }\n",
       "\n",
       "    .dataframe tbody tr th {\n",
       "        vertical-align: top;\n",
       "    }\n",
       "\n",
       "    .dataframe thead th {\n",
       "        text-align: right;\n",
       "    }\n",
       "</style>\n",
       "<table border=\"1\" class=\"dataframe\">\n",
       "  <thead>\n",
       "    <tr style=\"text-align: right;\">\n",
       "      <th></th>\n",
       "      <th>product_name_list</th>\n",
       "      <th>price_lst</th>\n",
       "    </tr>\n",
       "  </thead>\n",
       "  <tbody>\n",
       "    <tr>\n",
       "      <th>5586</th>\n",
       "      <td>كارفور جبنة مبشورة للجراتان 150 جرام</td>\n",
       "      <td>18.50 SAR</td>\n",
       "    </tr>\n",
       "    <tr>\n",
       "      <th>5587</th>\n",
       "      <td>بريلا صلصلة الغورغونزولا 400  جرام</td>\n",
       "      <td>16.50 SAR</td>\n",
       "    </tr>\n",
       "    <tr>\n",
       "      <th>5588</th>\n",
       "      <td>ريتشل بودينغ الرز 150 جرام  حبتين</td>\n",
       "      <td>14.75 SAR</td>\n",
       "    </tr>\n",
       "    <tr>\n",
       "      <th>5589</th>\n",
       "      <td>نوتيلا كريما البندق و الشوكولاته مع اصاب...</td>\n",
       "      <td>5.00 SAR</td>\n",
       "    </tr>\n",
       "    <tr>\n",
       "      <th>5590</th>\n",
       "      <td>الكبير 8 سبرنق رول الروبيان 280 جرام</td>\n",
       "      <td>8.50 SAR\\n11.75 SAR</td>\n",
       "    </tr>\n",
       "  </tbody>\n",
       "</table>\n",
       "</div>"
      ],
      "text/plain": [
       "                                product_name_list            price_lst\n",
       "5586         كارفور جبنة مبشورة للجراتان 150 جرام            18.50 SAR\n",
       "5587           بريلا صلصلة الغورغونزولا 400  جرام            16.50 SAR\n",
       "5588            ريتشل بودينغ الرز 150 جرام  حبتين            14.75 SAR\n",
       "5589  نوتيلا كريما البندق و الشوكولاته مع اصاب...             5.00 SAR\n",
       "5590         الكبير 8 سبرنق رول الروبيان 280 جرام  8.50 SAR\\n11.75 SAR"
      ]
     },
     "execution_count": 26,
     "metadata": {},
     "output_type": "execute_result"
    }
   ],
   "source": [
    "carrefour_df.tail()"
   ]
  },
  {
   "cell_type": "code",
   "execution_count": 27,
   "metadata": {},
   "outputs": [
    {
     "name": "stdout",
     "output_type": "stream",
     "text": [
      "<class 'pandas.core.frame.DataFrame'>\n",
      "RangeIndex: 5591 entries, 0 to 5590\n",
      "Data columns (total 2 columns):\n",
      "product_name_list    5591 non-null object\n",
      "price_lst            5591 non-null object\n",
      "dtypes: object(2)\n",
      "memory usage: 87.4+ KB\n"
     ]
    }
   ],
   "source": [
    "carrefour_df.info()"
   ]
  },
  {
   "cell_type": "code",
   "execution_count": 28,
   "metadata": {},
   "outputs": [],
   "source": [
    "# to get just the actuall price and change the type to float \n",
    "carrefour_df['price_lst'] = carrefour_df.price_lst.apply(lambda x:re.findall(r'\\d+\\.\\d+', x)[1] if len(re.findall(r'\\d+\\.\\d+', x)) > 1 else re.findall(r'\\d+\\.\\d+', x)[0]).astype(float)"
   ]
  },
  {
   "cell_type": "code",
   "execution_count": 29,
   "metadata": {},
   "outputs": [
    {
     "data": {
      "text/html": [
       "<div>\n",
       "<style scoped>\n",
       "    .dataframe tbody tr th:only-of-type {\n",
       "        vertical-align: middle;\n",
       "    }\n",
       "\n",
       "    .dataframe tbody tr th {\n",
       "        vertical-align: top;\n",
       "    }\n",
       "\n",
       "    .dataframe thead th {\n",
       "        text-align: right;\n",
       "    }\n",
       "</style>\n",
       "<table border=\"1\" class=\"dataframe\">\n",
       "  <thead>\n",
       "    <tr style=\"text-align: right;\">\n",
       "      <th></th>\n",
       "      <th>product_name_list</th>\n",
       "      <th>price_lst</th>\n",
       "    </tr>\n",
       "  </thead>\n",
       "  <tbody>\n",
       "    <tr>\n",
       "      <th>0</th>\n",
       "      <td>لي بالودير ملح بحر عضوي 500 جرام</td>\n",
       "      <td>25.95</td>\n",
       "    </tr>\n",
       "    <tr>\n",
       "      <th>1</th>\n",
       "      <td>زين عدس أحمر 1  كيلوجرام</td>\n",
       "      <td>10.00</td>\n",
       "    </tr>\n",
       "    <tr>\n",
       "      <th>2</th>\n",
       "      <td>بورقات حلاوة جيلي جلو ستيكس 175 جرام</td>\n",
       "      <td>7.75</td>\n",
       "    </tr>\n",
       "    <tr>\n",
       "      <th>3</th>\n",
       "      <td>ليبيز ذرة بالكريمة 241 جرام</td>\n",
       "      <td>4.50</td>\n",
       "    </tr>\n",
       "    <tr>\n",
       "      <th>4</th>\n",
       "      <td>قودي ذرة حبة كاملة 340 جم</td>\n",
       "      <td>3.80</td>\n",
       "    </tr>\n",
       "  </tbody>\n",
       "</table>\n",
       "</div>"
      ],
      "text/plain": [
       "                      product_name_list  price_lst\n",
       "0      لي بالودير ملح بحر عضوي 500 جرام      25.95\n",
       "1              زين عدس أحمر 1  كيلوجرام      10.00\n",
       "2  بورقات حلاوة جيلي جلو ستيكس 175 جرام       7.75\n",
       "3           ليبيز ذرة بالكريمة 241 جرام       4.50\n",
       "4             قودي ذرة حبة كاملة 340 جم       3.80"
      ]
     },
     "execution_count": 29,
     "metadata": {},
     "output_type": "execute_result"
    }
   ],
   "source": [
    "carrefour_df.head()"
   ]
  },
  {
   "cell_type": "code",
   "execution_count": 30,
   "metadata": {},
   "outputs": [
    {
     "name": "stdout",
     "output_type": "stream",
     "text": [
      "<class 'pandas.core.frame.DataFrame'>\n",
      "RangeIndex: 5591 entries, 0 to 5590\n",
      "Data columns (total 2 columns):\n",
      "product_name_list    5591 non-null object\n",
      "price_lst            5591 non-null float64\n",
      "dtypes: float64(1), object(1)\n",
      "memory usage: 87.4+ KB\n"
     ]
    }
   ],
   "source": [
    "carrefour_df.info()"
   ]
  },
  {
   "cell_type": "code",
   "execution_count": 31,
   "metadata": {},
   "outputs": [
    {
     "data": {
      "text/html": [
       "<div>\n",
       "<style scoped>\n",
       "    .dataframe tbody tr th:only-of-type {\n",
       "        vertical-align: middle;\n",
       "    }\n",
       "\n",
       "    .dataframe tbody tr th {\n",
       "        vertical-align: top;\n",
       "    }\n",
       "\n",
       "    .dataframe thead th {\n",
       "        text-align: right;\n",
       "    }\n",
       "</style>\n",
       "<table border=\"1\" class=\"dataframe\">\n",
       "  <thead>\n",
       "    <tr style=\"text-align: right;\">\n",
       "      <th></th>\n",
       "      <th>price_lst</th>\n",
       "    </tr>\n",
       "  </thead>\n",
       "  <tbody>\n",
       "    <tr>\n",
       "      <th>count</th>\n",
       "      <td>5591.000000</td>\n",
       "    </tr>\n",
       "    <tr>\n",
       "      <th>mean</th>\n",
       "      <td>16.364057</td>\n",
       "    </tr>\n",
       "    <tr>\n",
       "      <th>std</th>\n",
       "      <td>23.271399</td>\n",
       "    </tr>\n",
       "    <tr>\n",
       "      <th>min</th>\n",
       "      <td>0.500000</td>\n",
       "    </tr>\n",
       "    <tr>\n",
       "      <th>25%</th>\n",
       "      <td>6.075000</td>\n",
       "    </tr>\n",
       "    <tr>\n",
       "      <th>50%</th>\n",
       "      <td>11.750000</td>\n",
       "    </tr>\n",
       "    <tr>\n",
       "      <th>75%</th>\n",
       "      <td>19.500000</td>\n",
       "    </tr>\n",
       "    <tr>\n",
       "      <th>max</th>\n",
       "      <td>650.000000</td>\n",
       "    </tr>\n",
       "  </tbody>\n",
       "</table>\n",
       "</div>"
      ],
      "text/plain": [
       "         price_lst\n",
       "count  5591.000000\n",
       "mean     16.364057\n",
       "std      23.271399\n",
       "min       0.500000\n",
       "25%       6.075000\n",
       "50%      11.750000\n",
       "75%      19.500000\n",
       "max     650.000000"
      ]
     },
     "execution_count": 31,
     "metadata": {},
     "output_type": "execute_result"
    }
   ],
   "source": [
    "carrefour_df.describe()"
   ]
  },
  {
   "cell_type": "code",
   "execution_count": 32,
   "metadata": {},
   "outputs": [
    {
     "data": {
      "image/png": "[encoded data removed]",
      "text/plain": [
       "<Figure size 432x288 with 1 Axes>"
      ]
     },
     "metadata": {
      "needs_background": "light"
     },
     "output_type": "display_data"
    }
   ],
   "source": [
    "sns.distplot(carrefour_df.price_lst, bins= 300, fit=norm);"
   ]
  },
  {
   "cell_type": "markdown",
   "metadata": {},
   "source": [
    "### Save data frame as a csv file"
   ]
  },
  {
   "cell_type": "code",
   "execution_count": 33,
   "metadata": {},
   "outputs": [],
   "source": [
    "carrefour_df.to_csv('Carrefour.csv', encoding='utf-8-sig')"
   ]
  },
  {
   "cell_type": "markdown",
   "metadata": {},
   "source": [
    "# Othaim Market "
   ]
  },
  {
   "cell_type": "code",
   "execution_count": 60,
   "metadata": {},
   "outputs": [],
   "source": [
    "# using BS without selenium  \n",
    "url = 'https://www.othaimmarkets.com/grocery.html'\n",
    "soup = BeautifulSoup(urlopen(url), \"lxml\")\n",
    "html = soup.prettify(\"utf-8\")\n",
    "# open('rice-sugar.html', 'wb').write(html)\n",
    "\n",
    "\n",
    "\n",
    "# Extracting all products in the page \n",
    "product_div = soup.findAll(\"div\", {\"class\": \"product\"})\n",
    "\n",
    "# Extract content of other pages (Solve scrolling issue)\n",
    "pagesContainer = soup.find('div', {'class': 'listing_header_row2'})\n",
    "pagesContainer.find('a', {'class': 'small_icon'}).decompose()\n",
    "\n",
    "# Iterate over the rest pages and load it's content to out file ('rice-sugar')\n",
    "for a in pagesContainer.find_all('a', href=True):\n",
    "    url = a['href']\n",
    "    soup = BeautifulSoup(urlopen(url), \"lxml\") # Parser type (Similar to html)\n",
    "    html += soup.prettify(\"utf-8\") # Convert it to bytes because of Arabic words\n",
    "    \n",
    "    product_div += soup.findAll(\"div\", {\"class\": \"product\"})\n",
    "    content = soup.prettify(\"utf-8\")\n",
    "\n",
    "# open('rice-sugar.html', 'wb').write(html)\n",
    "\n",
    "# Convert our findings to list of 3 rows, Product, Price, Discount price.\n",
    "list_of_rows= [[] for i in range(len(product_div))]\n",
    "row = 0\n",
    "col = 0\n",
    "for product in product_div:\n",
    "\n",
    "    for title in product.find_all('a'):\n",
    "        if (title.text.strip() != \"\"):\n",
    "            list_of_rows[col].append(title.text.strip().replace('\\n\\n', '\\n'))\n",
    "    for price in product.find_all('span', {'class': 'price'}):\n",
    "        if (price.text.strip() != \"\"):\n",
    "            removedWhitespce  = re.sub(r'^\\s*$', '', price.text.strip())\n",
    "            list_of_rows[col].append(price.text.strip().replace('\\n\\n', '\\n'))\n",
    "    col += 1\n"
   ]
  },
  {
   "cell_type": "code",
   "execution_count": 70,
   "metadata": {},
   "outputs": [
    {
     "data": {
      "text/html": [
       "<div>\n",
       "<style scoped>\n",
       "    .dataframe tbody tr th:only-of-type {\n",
       "        vertical-align: middle;\n",
       "    }\n",
       "\n",
       "    .dataframe tbody tr th {\n",
       "        vertical-align: top;\n",
       "    }\n",
       "\n",
       "    .dataframe thead th {\n",
       "        text-align: right;\n",
       "    }\n",
       "</style>\n",
       "<table border=\"1\" class=\"dataframe\">\n",
       "  <thead>\n",
       "    <tr style=\"text-align: right;\">\n",
       "      <th></th>\n",
       "      <th>product_name_list</th>\n",
       "      <th>price_lst</th>\n",
       "      <th>price_lst_discont</th>\n",
       "    </tr>\n",
       "  </thead>\n",
       "  <tbody>\n",
       "    <tr>\n",
       "      <th>0</th>\n",
       "      <td>ذرة قودي حبة ذهبية علب 196 جرام</td>\n",
       "      <td>3.42</td>\n",
       "      <td>None</td>\n",
       "    </tr>\n",
       "    <tr>\n",
       "      <th>1</th>\n",
       "      <td>زيتون كوبوليفا اسود بلا نوى150 جرام</td>\n",
       "      <td>6.25</td>\n",
       "      <td>None</td>\n",
       "    </tr>\n",
       "    <tr>\n",
       "      <th>2</th>\n",
       "      <td>ذرة العلالي حلوة مهروسة 425 جرام</td>\n",
       "      <td>5.20</td>\n",
       "      <td>4.50</td>\n",
       "    </tr>\n",
       "    <tr>\n",
       "      <th>3</th>\n",
       "      <td>تونة بيتي خفيف زيت دوارشمس 180جرام</td>\n",
       "      <td>6.25</td>\n",
       "      <td>4.95</td>\n",
       "    </tr>\n",
       "    <tr>\n",
       "      <th>4</th>\n",
       "      <td>تونة بيتي خفيف زيت دوارشمس 100جرام</td>\n",
       "      <td>4.15</td>\n",
       "      <td>None</td>\n",
       "    </tr>\n",
       "  </tbody>\n",
       "</table>\n",
       "</div>"
      ],
      "text/plain": [
       "                     product_name_list price_lst price_lst_discont\n",
       "0      ذرة قودي حبة ذهبية علب 196 جرام      3.42              None\n",
       "1  زيتون كوبوليفا اسود بلا نوى150 جرام      6.25              None\n",
       "2     ذرة العلالي حلوة مهروسة 425 جرام      5.20              4.50\n",
       "3   تونة بيتي خفيف زيت دوارشمس 180جرام      6.25              4.95\n",
       "4   تونة بيتي خفيف زيت دوارشمس 100جرام      4.15              None"
      ]
     },
     "execution_count": 70,
     "metadata": {},
     "output_type": "execute_result"
    }
   ],
   "source": [
    "\n",
    "# Convert the lists to DF, then to csv.\n",
    "othaim_df = pd.DataFrame(list_of_rows, columns = ['product_name_list', 'price_lst', 'price_lst_discont'])\n",
    "othaim_df.head()"
   ]
  },
  {
   "cell_type": "code",
   "execution_count": 67,
   "metadata": {},
   "outputs": [],
   "source": [
    "othaim_df = othaim_df.drop(['price_lst_discont'], axis=1)"
   ]
  },
  {
   "cell_type": "code",
   "execution_count": 69,
   "metadata": {},
   "outputs": [
    {
     "data": {
      "text/html": [
       "<div>\n",
       "<style scoped>\n",
       "    .dataframe tbody tr th:only-of-type {\n",
       "        vertical-align: middle;\n",
       "    }\n",
       "\n",
       "    .dataframe tbody tr th {\n",
       "        vertical-align: top;\n",
       "    }\n",
       "\n",
       "    .dataframe thead th {\n",
       "        text-align: right;\n",
       "    }\n",
       "</style>\n",
       "<table border=\"1\" class=\"dataframe\">\n",
       "  <thead>\n",
       "    <tr style=\"text-align: right;\">\n",
       "      <th></th>\n",
       "      <th>product_name_list</th>\n",
       "      <th>price_lst</th>\n",
       "    </tr>\n",
       "  </thead>\n",
       "  <tbody>\n",
       "    <tr>\n",
       "      <th>0</th>\n",
       "      <td>ذرة قودي حبة ذهبية علب 196 جرام</td>\n",
       "      <td>3.42</td>\n",
       "    </tr>\n",
       "    <tr>\n",
       "      <th>1</th>\n",
       "      <td>زيتون كوبوليفا اسود بلا نوى150 جرام</td>\n",
       "      <td>6.25</td>\n",
       "    </tr>\n",
       "    <tr>\n",
       "      <th>2</th>\n",
       "      <td>ذرة العلالي حلوة مهروسة 425 جرام</td>\n",
       "      <td>5.20</td>\n",
       "    </tr>\n",
       "    <tr>\n",
       "      <th>3</th>\n",
       "      <td>تونة بيتي خفيف زيت دوارشمس 180جرام</td>\n",
       "      <td>6.25</td>\n",
       "    </tr>\n",
       "    <tr>\n",
       "      <th>4</th>\n",
       "      <td>تونة بيتي خفيف زيت دوارشمس 100جرام</td>\n",
       "      <td>4.15</td>\n",
       "    </tr>\n",
       "  </tbody>\n",
       "</table>\n",
       "</div>"
      ],
      "text/plain": [
       "                     product_name_list price_lst\n",
       "0      ذرة قودي حبة ذهبية علب 196 جرام      3.42\n",
       "1  زيتون كوبوليفا اسود بلا نوى150 جرام      6.25\n",
       "2     ذرة العلالي حلوة مهروسة 425 جرام      5.20\n",
       "3   تونة بيتي خفيف زيت دوارشمس 180جرام      6.25\n",
       "4   تونة بيتي خفيف زيت دوارشمس 100جرام      4.15"
      ]
     },
     "execution_count": 69,
     "metadata": {},
     "output_type": "execute_result"
    }
   ],
   "source": [
    "othaim_df.head()"
   ]
  },
  {
   "cell_type": "code",
   "execution_count": 68,
   "metadata": {},
   "outputs": [],
   "source": [
    "othaim_df.to_csv('Alothaim.csv', encoding='utf-8-sig')"
   ]
  },
  {
   "cell_type": "code",
   "execution_count": null,
   "metadata": {},
   "outputs": [],
   "source": []
  }
 ],
 "metadata": {
  "kernelspec": {
   "display_name": "Python 3",
   "language": "python",
   "name": "python3"
  },
  "language_info": {
   "codemirror_mode": {
    "name": "ipython",
    "version": 3
   },
   "file_extension": ".py",
   "mimetype": "text/x-python",
   "name": "python",
   "nbconvert_exporter": "python",
   "pygments_lexer": "ipython3",
   "version": "3.6.8"
  }
 },
 "nbformat": 4,
 "nbformat_minor": 2
}
